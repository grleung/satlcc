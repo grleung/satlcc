{
 "cells": [
  {
   "cell_type": "markdown",
   "id": "bc010695-f28b-46b5-a6e4-6da06b7c4467",
   "metadata": {},
   "source": [
    "### Imports and Paths"
   ]
  },
  {
   "cell_type": "code",
   "execution_count": 1,
   "id": "a2ff287e-adc6-4cbd-97cb-c45acff40f33",
   "metadata": {},
   "outputs": [
    {
     "name": "stderr",
     "output_type": "stream",
     "text": [
      "/home/gleung/miniconda3/envs/satlcc/lib/python3.10/site-packages/pyproj/__init__.py:89: UserWarning: pyproj unable to set database path.\n",
      "  _pyproj_global_context_initialize()\n"
     ]
    }
   ],
   "source": [
    "import os\n",
    "import pandas as pd\n",
    "import numpy as np\n",
    "import matplotlib.pyplot as plt\n",
    "import cartopy\n",
    "import cartopy.crs as ccrs\n",
    "import numba as nb\n",
    "import time\n",
    "%load_ext line_profiler\n",
    "\n",
    "from PIL import Image\n",
    "Image.MAX_IMAGE_PIXELS = None"
   ]
  },
  {
   "cell_type": "code",
   "execution_count": 2,
   "id": "89b9c0c8-6386-4414-ae5b-40c25581a2ae",
   "metadata": {},
   "outputs": [],
   "source": [
    "from palettable.cartocolors.qualitative import Prism_8\n",
    "prism = Prism_8.mpl_colors\n",
    "blue = prism[1]\n",
    "green = prism[3]\n",
    "purple = prism[0]\n",
    "red = prism[7]\n",
    "orange = prism[6]\n",
    "yellow = prism[5]\n",
    "gray = '#303039'\n",
    "#importing plotting parameters\n",
    "style = '/home/gleung/scripts/styles/bee-paperlight.mplstyle'\n",
    "#style = '/home/gleung/scripts/styles/bee-presentationtransparent.mplstyle'\n",
    "plt.style.use(style)\n",
    "\n",
    "import matplotlib.font_manager as font_manager\n",
    "from matplotlib import rcParams\n",
    "\n",
    "# Add every font at the specified location\n",
    "font_dir = ['/home/gleung/scripts/futura']\n",
    "for font in font_manager.findSystemFonts(font_dir):\n",
    "    font_manager.fontManager.addfont(font)\n",
    "\n",
    "# Set font family globally\n",
    "rcParams['font.family'] = 'Futura'\n",
    "\n",
    "bg = 'white'\n",
    "lcol = 'black'"
   ]
  },
  {
   "cell_type": "code",
   "execution_count": 3,
   "id": "15a1208f-39c8-44e0-85b0-fb7b65941f95",
   "metadata": {},
   "outputs": [],
   "source": [
    "from cartopy.mpl.gridliner import LONGITUDE_FORMATTER, LATITUDE_FORMATTER\n",
    "\n",
    "def add_latlon(ax):\n",
    "    gl = ax.gridlines(crs=ccrs.PlateCarree(), draw_labels=True)\n",
    "    gl.top_labels = False\n",
    "    gl.right_labels = False\n",
    "    gl.xlines = False\n",
    "    gl.ylines = False\n",
    "    gl.xformatter = LONGITUDE_FORMATTER\n",
    "    gl.yformatter = LATITUDE_FORMATTER"
   ]
  },
  {
   "cell_type": "code",
   "execution_count": 75,
   "id": "5368dbca-f530-4034-9d35-57eb5dd6fe18",
   "metadata": {},
   "outputs": [],
   "source": [
    "dataPath = '/moonbow/gleung/satlcc/GSW_2020_v3/'\n",
    "anaPath = '/moonbow/gleung/satlcc/GSW_processing/'\n",
    "\n",
    "if not os.path.isdir(anaPath):\n",
    "    os.mkdir(anaPath)"
   ]
  },
  {
   "cell_type": "markdown",
   "id": "b8ac1eb4-d34c-4b53-a3cd-c349a2931c7e",
   "metadata": {},
   "source": [
    "# Testing Functions"
   ]
  },
  {
   "cell_type": "markdown",
   "id": "303e57a8-c284-47b0-9975-ec46dd235d59",
   "metadata": {},
   "source": [
    "## Read GSW Data"
   ]
  },
  {
   "cell_type": "code",
   "execution_count": 17,
   "id": "4b5d4fdd-9911-465f-b431-e201ff7ff116",
   "metadata": {},
   "outputs": [
    {
     "name": "stdout",
     "output_type": "stream",
     "text": [
      "['occurrence_100E_0Nv1_3_2020.tif', 'occurrence_100E_10Nv1_3_2020.tif', 'occurrence_100E_20Nv1_3_2020.tif', 'occurrence_100E_30Nv1_3_2020.tif', 'occurrence_110E_0Nv1_3_2020.tif', 'occurrence_110E_10Nv1_3_2020.tif', 'occurrence_110E_20Nv1_3_2020.tif', 'occurrence_110E_30Nv1_3_2020.tif', 'occurrence_120E_0Nv1_3_2020.tif', 'occurrence_120E_10Nv1_3_2020.tif', 'occurrence_120E_20Nv1_3_2020.tif', 'occurrence_120E_30Nv1_3_2020.tif', 'occurrence_130E_0Nv1_3_2020.tif', 'occurrence_130E_10Nv1_3_2020.tif', 'occurrence_130E_20Nv1_3_2020.tif', 'occurrence_130E_30Nv1_3_2020.tif', 'occurrence_90E_0Nv1_3_2020.tif', 'occurrence_90E_10Nv1_3_2020.tif', 'occurrence_90E_20Nv1_3_2020.tif', 'occurrence_90E_30Nv1_3_2020.tif']\n"
     ]
    }
   ],
   "source": [
    "print(sorted(os.listdir(f\"{dataPath}occurrence/\")))"
   ]
  },
  {
   "cell_type": "code",
   "execution_count": 66,
   "id": "d8709ada-9c7f-4bc7-9923-2ba091b7e45d",
   "metadata": {},
   "outputs": [],
   "source": [
    "lat = 0\n",
    "lon = 100\n",
    "\n",
    "var = 'occurrence'\n",
    "path = f\"{dataPath}{var}/{var}_{str(lon).zfill(3)}E_{str(lat)}Nv1_3_2020.tif\"\n",
    "watercover = np.array(Image.open(path))[::-1,::]\n",
    "watercover = np.where(watercover!=255, watercover/100, np.nan)"
   ]
  },
  {
   "cell_type": "code",
   "execution_count": null,
   "id": "8e2f14ee-f9f5-43bf-97c3-16014902e28a",
   "metadata": {},
   "outputs": [],
   "source": [
    "ave_res = 32 #32 arcseconds is approximately 1km\n",
    "n = 125 #number of chunks to subset (~number of km x number of km box)"
   ]
  },
  {
   "cell_type": "code",
   "execution_count": 56,
   "id": "efee758c-926b-405e-b65f-4f69de6daf32",
   "metadata": {},
   "outputs": [],
   "source": [
    "@nb.njit\n",
    "def coarsen_res(watercover,ave_res=32):\n",
    "    n = int(watercover.shape[0]/ave_res)\n",
    "    watercover_coarse = np.zeros((n,n))\n",
    "    \n",
    "    for i in range(n):\n",
    "        for j in range(n):\n",
    "            watercover_coarse[i,j] = watercover[ave_res*i:ave_res*(i+1),ave_res*j:ave_res*(j+1)].sum()/(ave_res*ave_res)\n",
    "                \n",
    "    return(watercover_coarse)"
   ]
  },
  {
   "cell_type": "code",
   "execution_count": 67,
   "id": "7edb9daa-098e-4ff6-8b12-273526924362",
   "metadata": {},
   "outputs": [
    {
     "name": "stdout",
     "output_type": "stream",
     "text": [
      "CPU times: user 11.9 s, sys: 706 ms, total: 12.6 s\n",
      "Wall time: 12.6 s\n"
     ]
    }
   ],
   "source": [
    "%%time\n",
    "\n",
    "watercover_coarse = coarsen_res(watercover,ave_res=32)"
   ]
  },
  {
   "cell_type": "code",
   "execution_count": 68,
   "id": "b9a6b80f-aefb-477a-9fb2-f7a749ca2456",
   "metadata": {},
   "outputs": [],
   "source": [
    "#File name refers to top left corner of tile\n",
    "lats = np.linspace(lat-10, lat, watercover_coarse.shape[0]+1)[1:]\n",
    "lons = np.linspace(lon, lon+10, watercover_coarse.shape[1]+1)[:-1]"
   ]
  },
  {
   "cell_type": "code",
   "execution_count": 70,
   "id": "dbb05331-dfd1-4712-8e2d-8fc77165179a",
   "metadata": {},
   "outputs": [
    {
     "data": {
      "text/plain": [
       "<matplotlib.colorbar.Colorbar at 0x7f9697256c20>"
      ]
     },
     "execution_count": 70,
     "metadata": {},
     "output_type": "execute_result"
    },
    {
     "data": {
      "image/png": "[encoded data removed]",
      "text/plain": [
       "<Figure size 432x288 with 2 Axes>"
      ]
     },
     "metadata": {
      "needs_background": "light"
     },
     "output_type": "display_data"
    }
   ],
   "source": [
    "plt.pcolormesh(lons,lats,watercover_coarse)\n",
    "plt.colorbar()"
   ]
  },
  {
   "cell_type": "markdown",
   "id": "2c1b1922-de64-4001-93c1-dbf3552ce3f2",
   "metadata": {},
   "source": [
    "# Process All"
   ]
  },
  {
   "cell_type": "code",
   "execution_count": 76,
   "id": "03b0e904-5391-489b-9546-c92f847a5d83",
   "metadata": {},
   "outputs": [
    {
     "name": "stdout",
     "output_type": "stream",
     "text": [
      "0 90\n",
      "saving\n",
      "32.60650420188904\n",
      "0 100\n",
      "saving\n",
      "65.21404695510864\n",
      "0 110\n",
      "saving\n",
      "97.22667288780212\n",
      "0 120\n",
      "saving\n",
      "131.3312599658966\n",
      "0 130\n",
      "saving\n",
      "167.48498249053955\n",
      "10 90\n",
      "saving\n",
      "195.31187772750854\n",
      "10 100\n",
      "saving\n",
      "227.59724140167236\n",
      "10 110\n",
      "saving\n",
      "255.8324682712555\n",
      "10 120\n",
      "saving\n",
      "286.84391736984253\n",
      "10 130\n",
      "saving\n",
      "319.3632228374481\n",
      "20 90\n",
      "saving\n",
      "349.5479509830475\n",
      "20 100\n",
      "saving\n",
      "375.04936838150024\n",
      "20 110\n",
      "saving\n",
      "393.8738708496094\n",
      "20 120\n",
      "saving\n",
      "412.7563986778259\n",
      "20 130\n",
      "saving\n",
      "430.55646085739136\n",
      "30 90\n",
      "saving\n",
      "449.8030090332031\n",
      "30 100\n",
      "saving\n",
      "470.53436064720154\n",
      "30 110\n",
      "saving\n",
      "506.78902316093445\n",
      "30 120\n",
      "saving\n",
      "537.1240408420563\n",
      "30 130\n",
      "saving\n",
      "563.2676882743835\n"
     ]
    }
   ],
   "source": [
    "lat = 10\n",
    "lon = 110\n",
    "\n",
    "starttime=time.time()\n",
    "for lat in [0,10,20,30]:\n",
    "    for lon in [90,100,110,120,130]:\n",
    "        print(lat,lon)\n",
    "        \n",
    "        var = 'occurrence'\n",
    "        path = f\"{dataPath}{var}/{var}_{str(lon)}E_{str(lat)}Nv1_3_2020.tif\"\n",
    "        watercover = np.array(Image.open(path))[::-1,::]\n",
    "        watercover = np.where(watercover!=255, watercover/100, np.nan)\n",
    "\n",
    "        ave_res = 32 #32 arcseconds is approximately 1km\n",
    "        n = 25 #number of chunks to subset (~number of km x number of km box)\n",
    "\n",
    "        water = []\n",
    "        for i in range(0,int(watercover.shape[0]/(ave_res*n))):\n",
    "            watercover_rows = []\n",
    "            for j in range(0,int(watercover.shape[1]/(ave_res*n))):\n",
    "                watercover_ = watercover[i*ave_res*n:(i+1)*ave_res*n,j*ave_res*n:(j+1)*ave_res*n]\n",
    "                \n",
    "                watercover_coarse = coarsen_res(watercover_,ave_res)\n",
    "\n",
    "                watercover_rows.append(watercover_coarse)\n",
    "\n",
    "            water.append(np.concatenate(watercover_rows,axis=1))\n",
    "            \n",
    "        print('saving')\n",
    "        water = np.concatenate(water,axis=0)\n",
    "        np.save(f\"{anaPath}watercover1km_{str(lat).zfill(2)}N_{str(lon).zfill(3)}E\", water)\n",
    "\n",
    "        print(time.time()-starttime)"
   ]
  },
  {
   "cell_type": "code",
   "execution_count": null,
   "id": "d53f2ee3-2dbe-424e-97f2-b5b1d40f8448",
   "metadata": {},
   "outputs": [],
   "source": []
  }
 ],
 "metadata": {
  "kernelspec": {
   "display_name": "satlcc",
   "language": "python",
   "name": "satlcc"
  },
  "language_info": {
   "codemirror_mode": {
    "name": "ipython",
    "version": 3
   },
   "file_extension": ".py",
   "mimetype": "text/x-python",
   "name": "python",
   "nbconvert_exporter": "python",
   "pygments_lexer": "ipython3",
   "version": "3.10.5"
  }
 },
 "nbformat": 4,
 "nbformat_minor": 5
}
