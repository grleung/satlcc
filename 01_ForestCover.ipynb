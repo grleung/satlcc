{
 "cells": [
  {
   "cell_type": "markdown",
   "id": "cb4360b5-bd59-49ae-9928-f05d129c772f",
   "metadata": {},
   "source": [
    "# Imports and Paths"
   ]
  },
  {
   "cell_type": "code",
   "execution_count": 1,
   "id": "021eb7ce-dd97-4ab6-a3b8-93cec3686bcf",
   "metadata": {},
   "outputs": [
    {
     "name": "stderr",
     "output_type": "stream",
     "text": [
      "/home/gleung/miniconda3/envs/satlcc/lib/python3.10/site-packages/pyproj/__init__.py:89: UserWarning: pyproj unable to set database path.\n",
      "  _pyproj_global_context_initialize()\n"
     ]
    }
   ],
   "source": [
    "import os\n",
    "import pandas as pd\n",
    "import numpy as np\n",
    "import matplotlib.pyplot as plt\n",
    "import cartopy\n",
    "import cartopy.crs as ccrs\n",
    "import numba as nb\n",
    "import time\n",
    "%load_ext line_profiler\n",
    "\n",
    "from PIL import Image\n",
    "Image.MAX_IMAGE_PIXELS = None"
   ]
  },
  {
   "cell_type": "code",
   "execution_count": 2,
   "id": "825ff045-5e2d-4b19-a993-9b18503f1c87",
   "metadata": {},
   "outputs": [],
   "source": [
    "from palettable.cartocolors.qualitative import Prism_8\n",
    "prism = Prism_8.mpl_colors\n",
    "blue = prism[1]\n",
    "green = prism[3]\n",
    "purple = prism[0]\n",
    "red = prism[7]\n",
    "orange = prism[6]\n",
    "yellow = prism[5]\n",
    "gray = '#303039'\n",
    "#importing plotting parameters\n",
    "style = '/home/gleung/scripts/styles/bee-paperlight.mplstyle'\n",
    "#style = '/home/gleung/scripts/styles/bee-presentationtransparent.mplstyle'\n",
    "plt.style.use(style)\n",
    "\n",
    "import matplotlib.font_manager as font_manager\n",
    "from matplotlib import rcParams\n",
    "\n",
    "# Add every font at the specified location\n",
    "font_dir = ['/home/gleung/scripts/futura']\n",
    "for font in font_manager.findSystemFonts(font_dir):\n",
    "    font_manager.fontManager.addfont(font)\n",
    "\n",
    "# Set font family globally\n",
    "rcParams['font.family'] = 'Futura'\n",
    "\n",
    "bg = 'white'\n",
    "lcol = 'black'"
   ]
  },
  {
   "cell_type": "code",
   "execution_count": 3,
   "id": "e6886da2-c0e4-47d7-8159-4b892c393c49",
   "metadata": {},
   "outputs": [],
   "source": [
    "from cartopy.mpl.gridliner import LONGITUDE_FORMATTER, LATITUDE_FORMATTER\n",
    "\n",
    "def add_latlon(ax):\n",
    "    gl = ax.gridlines(crs=ccrs.PlateCarree(), draw_labels=True)\n",
    "    gl.top_labels = False\n",
    "    gl.right_labels = False\n",
    "    gl.xlines = False\n",
    "    gl.ylines = False\n",
    "    gl.xformatter = LONGITUDE_FORMATTER\n",
    "    gl.yformatter = LATITUDE_FORMATTER"
   ]
  },
  {
   "cell_type": "code",
   "execution_count": 4,
   "id": "0e56ebe7-c357-4f6c-9bfe-42a13f95710b",
   "metadata": {},
   "outputs": [],
   "source": [
    "dataPath = '/moonbow/gleung/satlcc/GFC_2021_v1.9/'\n",
    "figPath = '/moonbow/gleung/satlcc-figures/GFC_processing/'\n",
    "anaPath = '/moonbow/gleung/satlcc/GFC_processing/'"
   ]
  },
  {
   "cell_type": "markdown",
   "id": "454186f8-b4b1-40e7-b1e5-ad68a011c345",
   "metadata": {},
   "source": [
    "# Testing Functions"
   ]
  },
  {
   "cell_type": "markdown",
   "id": "8345e96e-6247-46cf-9540-ae84dd1e1bc3",
   "metadata": {},
   "source": [
    "## Read GFC Data"
   ]
  },
  {
   "cell_type": "markdown",
   "id": "5b468eb5-5bbd-4f6b-b011-25708c8b039c",
   "metadata": {},
   "source": [
    "Since each tile is very large, will process each tile at 30m resolution into 1km resolution first before concatenating tiles."
   ]
  },
  {
   "cell_type": "code",
   "execution_count": 5,
   "id": "6f24ea79-7801-455f-a81d-75dca97d00c5",
   "metadata": {},
   "outputs": [
    {
     "data": {
      "text/plain": [
       "'var = \\'lossyear\\'\\npath = f\"{dataPath}{var}/Hansen_GFC-2021-v1.9_{var}_{str(lat).zfill(2)}N_{str(lon).zfill(3)}E.tif\"\\nlossyear = np.array(Image.open(path))[::-1,::]'"
      ]
     },
     "execution_count": 5,
     "metadata": {},
     "output_type": "execute_result"
    }
   ],
   "source": [
    "lat = 0\n",
    "lon = 100\n",
    "\n",
    "var = 'treecover2000'\n",
    "path = f\"{dataPath}{var}/Hansen_GFC-2021-v1.9_{var}_{str(lat).zfill(2)}N_{str(lon).zfill(3)}E.tif\"\n",
    "treecover = np.array(Image.open(path))[::-1,::]\n",
    "\n",
    "'''var = 'lossyear'\n",
    "path = f\"{dataPath}{var}/Hansen_GFC-2021-v1.9_{var}_{str(lat).zfill(2)}N_{str(lon).zfill(3)}E.tif\"\n",
    "lossyear = np.array(Image.open(path))[::-1,::]'''"
   ]
  },
  {
   "cell_type": "code",
   "execution_count": 6,
   "id": "0e39b711-8866-4057-bacb-188b9b289f32",
   "metadata": {},
   "outputs": [],
   "source": [
    "#File name refers to top left corner of tile\n",
    "lats = np.linspace(lat-10, lat, lossyear.shape[0]+1)[1:]\n",
    "lons = np.linspace(lon, lon+10, lossyear.shape[1]+1)[:-1]"
   ]
  },
  {
   "cell_type": "markdown",
   "id": "6271d4af-97bf-4b7e-a3d2-9c9e4be3d488",
   "metadata": {},
   "source": [
    "## Define Yearly Tree Cover"
   ]
  },
  {
   "cell_type": "code",
   "execution_count": null,
   "id": "95a560c4-1290-4015-8a85-67756a44d625",
   "metadata": {},
   "outputs": [],
   "source": [
    "ave_res = 32 #32 arcseconds is approximately 1km\n",
    "n = 125 #number of chunks to subset (~number of km x number of km box)\n",
    "\n",
    "treecover = treecover[-ave_res*n:,-ave_res*n:]\n",
    "lossyear = lossyear[-ave_res*n:,-ave_res*n:]"
   ]
  },
  {
   "cell_type": "code",
   "execution_count": null,
   "id": "7dc27437-6dbb-4e72-9ac8-610b5c092641",
   "metadata": {},
   "outputs": [],
   "source": [
    "print(lats)\n",
    "print(lons)"
   ]
  },
  {
   "cell_type": "code",
   "execution_count": null,
   "id": "0c4e19ff-5f1d-47be-8986-68bf0f9baa02",
   "metadata": {},
   "outputs": [],
   "source": [
    "fig, axes = plt.subplots(1,3,sharex=True,sharey=True,figsize=(12,5),\n",
    "                        subplot_kw={'projection':ccrs.PlateCarree()})\n",
    "\n",
    "nplot = 20\n",
    "\n",
    "treecover_ = treecover[-nplot*ave_res:,-nplot*ave_res:]\n",
    "lossyear_ = lossyear[-nplot*ave_res:,-nplot*ave_res:]\n",
    "\n",
    "c = axes[0].pcolormesh(lons[-nplot*ave_res:],\n",
    "                       lats[-nplot*ave_res:],\n",
    "                       treecover_, cmap='Greens',\n",
    "                  vmin=0, vmax=100)\n",
    "plt.colorbar(c,ax=axes[0],orientation='horizontal',label='Forest Cover Fraction in 2000')\n",
    "axes[0].set_title('(a)')\n",
    "\n",
    "c = axes[1].pcolormesh(lons[-nplot*ave_res:],\n",
    "                       lats[-nplot*ave_res:],\n",
    "                       np.where(treecover_>=75,1,0), cmap='Greens',\n",
    "                  vmin=0, vmax=1)\n",
    "plt.colorbar(c,ax=axes[1],orientation='horizontal',label='Binarized Forest Cover in 2000')\n",
    "axes[1].set_title('(b)')\n",
    "\n",
    "c = axes[2].pcolormesh(lons[-nplot*ave_res:],\n",
    "                       lats[-nplot*ave_res:],\n",
    "                       np.where(lossyear_!=0,lossyear_+2000,np.nan))\n",
    "plt.colorbar(c,ax=axes[2],orientation='horizontal',label='Year of Forest Loss')\n",
    "axes[2].set_title('(c)')\n",
    "\n",
    "for ax in axes:\n",
    "    add_latlon(ax)\n",
    "    #ax.set_xlim(100,110)\n",
    "    #ax.set_ylim(-10,0)\n",
    "    #ax.coastlines()\n",
    "        \n",
    "plt.savefig(f\"{figPath}sample_rawdata.png\",dpi=300)\n",
    "plt.show()"
   ]
  },
  {
   "cell_type": "code",
   "execution_count": null,
   "id": "000972b1-0bc6-4fb4-bcb0-152059c2bf1d",
   "metadata": {
    "tags": []
   },
   "outputs": [],
   "source": [
    "def binarize_annual_forest(treecover,lossyear,forest_thresh=75):\n",
    "    #binarizing forest cover\n",
    "    forest_00 = np.where(treecover>forest_thresh,1,0)\n",
    "    \n",
    "    forest_all = np.zeros((forest_00.shape[0],forest_00.shape[1],21))\n",
    "    forest_all[:,:,0] = forest_00[:,:]\n",
    "    \n",
    "    for yr in range(1,21):\n",
    "        forest_all[:,:,yr] = np.where((lossyear<=yr) & (lossyear!=0),0,forest_00)\n",
    "    \n",
    "    return(forest_all)"
   ]
  },
  {
   "cell_type": "code",
   "execution_count": null,
   "id": "8d8e88dc-7f9b-43d2-a1ce-f34d3d94fa42",
   "metadata": {
    "tags": []
   },
   "outputs": [],
   "source": [
    "%lprun -f binarize_annual_forest binarize_annual_forest(treecover,lossyear,forest_thresh)"
   ]
  },
  {
   "cell_type": "code",
   "execution_count": 7,
   "id": "57dce04c-6768-47e8-9554-7339f4df7967",
   "metadata": {
    "tags": []
   },
   "outputs": [],
   "source": [
    "@nb.njit\n",
    "def binarize_annual_forest(treecover,lossyear,forest_thresh=75,yrs = 21):\n",
    "    #binarizing forest cover\n",
    "    forest_00 = np.where(treecover>forest_thresh,1,0)\n",
    "    \n",
    "    forest_all = np.zeros((forest_00.shape[0],forest_00.shape[1],yrs))\n",
    "    \n",
    "    for yr in range(forest_all.shape[2]):\n",
    "        forest_all[:,:,yr] = forest_00[:,:] #initially set forest cover for all years to be the same as in year 2000\n",
    "    \n",
    "    for i in range(forest_all.shape[0]):\n",
    "        for j in range(forest_all.shape[1]):\n",
    "            if forest_00[i,j]!=0: #if not forested to begin with, then no need to look at it\n",
    "                loss_yr = lossyear[i,j]\n",
    "                for yr in range(loss_yr,forest_all.shape[2]): #replace all forest cover values in years after loss year with 0\n",
    "                    forest_all[i,j,yr] = 0\n",
    "\n",
    "    return(forest_all)"
   ]
  },
  {
   "cell_type": "code",
   "execution_count": null,
   "id": "97ea41ff-36a5-477d-a5a3-d3501d6a0e11",
   "metadata": {},
   "outputs": [],
   "source": [
    "%%time\n",
    "\n",
    "forest_thresh=75\n",
    "\n",
    "forest_all=binarize_annual_forest(treecover,lossyear,forest_thresh)"
   ]
  },
  {
   "cell_type": "code",
   "execution_count": null,
   "id": "fc927389-6e28-454c-b07b-9d1dfef8a5bd",
   "metadata": {},
   "outputs": [],
   "source": [
    "nplot = 20 #number of chunks to plot (number of km x number of km box)\n",
    "\n",
    "forest_sub = forest_all[-nplot*ave_res:,-nplot*ave_res:,:]\n",
    "\n",
    "fig, axes = plt.subplots(1,5,sharex=True,sharey=True,figsize=(22,5),\n",
    "                        subplot_kw={'projection':ccrs.PlateCarree()})\n",
    "axes = axes.flatten()\n",
    "\n",
    "for ax,yr in zip(axes,[0,5,10,15,20]):\n",
    "    ax.pcolormesh(lons[-nplot*ave_res:],\n",
    "                  lats[-nplot*ave_res:],\n",
    "                  forest_sub[:,:,yr], \n",
    "                  cmap='Greens')\n",
    "        \n",
    "    ax.set_title(f\"20{str(yr).zfill(2)}\",loc='center')\n",
    "    \n",
    "    add_latlon(ax)\n",
    "    \n",
    "plt.savefig(f\"{figPath}sample_forestcover30m_binarizedyearly.png\",dpi=300)\n",
    "plt.show()"
   ]
  },
  {
   "cell_type": "markdown",
   "id": "edfc9c89-7c46-4ee7-93f0-e4de1e581551",
   "metadata": {},
   "source": [
    "## Resample to 1km Resolution"
   ]
  },
  {
   "cell_type": "code",
   "execution_count": null,
   "id": "00c3310d-9b4e-452a-85e2-0d297423a789",
   "metadata": {},
   "outputs": [],
   "source": [
    "#averaging resolution of 32 --> 1km resolution\n",
    "#averaging resolution of 160 --> 5km resolution"
   ]
  },
  {
   "cell_type": "code",
   "execution_count": 8,
   "id": "caf632ad-1b9d-4604-bfc1-5ba8f59d5366",
   "metadata": {},
   "outputs": [],
   "source": [
    "@nb.njit\n",
    "def coarsen_forest(forest,ave_res=32,yrs=21):\n",
    "    n = int(forest.shape[0]/ave_res)\n",
    "    forest_coarse = np.zeros((n,n,yrs))\n",
    "    \n",
    "    for yr in range(yrs):\n",
    "        for i in range(n):\n",
    "            for j in range(n):\n",
    "                forest_coarse[i,j,yr] = forest[ave_res*i:ave_res*(i+1),ave_res*j:ave_res*(j+1),yr].sum()/(ave_res*ave_res)\n",
    "                \n",
    "    return(forest_coarse)"
   ]
  },
  {
   "cell_type": "code",
   "execution_count": null,
   "id": "e0310314-1a9a-478c-833d-354b651adb0e",
   "metadata": {},
   "outputs": [],
   "source": [
    "%%time\n",
    "\n",
    "forest_coarse = coarsen_forest(forest_all,ave_res=160)"
   ]
  },
  {
   "cell_type": "code",
   "execution_count": null,
   "id": "2d6bdd4b-fe29-412a-a8ad-7dec5753d619",
   "metadata": {},
   "outputs": [],
   "source": [
    "nplot = 20 #number of chunks to plot (number of km x number of km box)\n",
    "forest_coarse_sub = forest_coarse[-nplot:,-nplot:,:]\n",
    "\n",
    "fig, axes = plt.subplots(1,5,sharex=True,sharey=True,figsize=(22,5),\n",
    "                        subplot_kw={'projection':ccrs.PlateCarree()})\n",
    "axes = axes.flatten()\n",
    "\n",
    "for ax,yr in zip(axes,[0,5,10,15,20]):\n",
    "    c = ax.pcolormesh(lons[-nplot*ave_res::ave_res],\n",
    "                  lats[-nplot*ave_res::ave_res],\n",
    "                  forest_coarse_sub[:,:,yr],vmin = 0, vmax=1, cmap='Greens')\n",
    "    \n",
    "    ax.set_title(f\"20{str(yr).zfill(2)}\",loc='center')\n",
    "    add_latlon(ax)\n",
    "    \n",
    "cax = fig.add_axes([axes[0].get_position().x0,\n",
    "                    axes[1].get_position().y0-0.145, \n",
    "                   axes[-1].get_position().x1 - axes[0].get_position().x0,\n",
    "                           0.065])\n",
    "cbar = plt.colorbar(c,cax=cax, orientation='horizontal', \n",
    "                    label = 'Forest Cover Fraction'\n",
    "                   )     \n",
    "    \n",
    "plt.savefig(f\"{figPath}sample_forestcover5km.png\",dpi=300)\n",
    "plt.show()"
   ]
  },
  {
   "cell_type": "markdown",
   "id": "6c5c3970-24a0-4c58-9a36-1e83d6c4bb04",
   "metadata": {},
   "source": [
    "# Run on One Tile"
   ]
  },
  {
   "cell_type": "code",
   "execution_count": null,
   "id": "af699b89-6b0e-45a2-9920-83d12a1a80ac",
   "metadata": {},
   "outputs": [
    {
     "name": "stdout",
     "output_type": "stream",
     "text": [
      "0 90\n",
      "saving\n",
      "780.4874956607819\n",
      "0 100\n",
      "saving\n",
      "1580.3330523967743\n",
      "0 110\n",
      "saving\n",
      "2415.345248937607\n",
      "0 120\n",
      "saving\n",
      "3226.871260404587\n",
      "0 130\n",
      "saving\n",
      "4013.636379957199\n",
      "10 90\n"
     ]
    }
   ],
   "source": [
    "lat = 10\n",
    "lon = 110\n",
    "forest_thresh=75\n",
    "\n",
    "starttime=time.time()\n",
    "for lat in [0,10,20,30]:\n",
    "    for lon in [90,100,110,120,130]:\n",
    "        print(lat,lon)\n",
    "        \n",
    "        var = 'treecover2000'\n",
    "        path = f\"{dataPath}{var}/Hansen_GFC-2021-v1.9_{var}_{str(lat).zfill(2)}N_{str(lon).zfill(3)}E.tif\"\n",
    "        treecover = np.array(Image.open(path))[::-1,::]\n",
    "\n",
    "        var = 'lossyear'\n",
    "        path = f\"{dataPath}{var}/Hansen_GFC-2021-v1.9_{var}_{str(lat).zfill(2)}N_{str(lon).zfill(3)}E.tif\"\n",
    "        lossyear = np.array(Image.open(path))[::-1,::]\n",
    "\n",
    "        ave_res = 160 #32 arcseconds is approximately 1km\n",
    "        n = 5 #number of chunks to subset (~number of km x number of km box)\n",
    "\n",
    "        forest = []\n",
    "        for i in range(0,int(treecover.shape[0]/(ave_res*n))):\n",
    "            forest_rows = []\n",
    "            for j in range(0,int(treecover.shape[1]/(ave_res*n))):\n",
    "                treecover_ = treecover[i*ave_res*n:(i+1)*ave_res*n,j*ave_res*n:(j+1)*ave_res*n]\n",
    "                lossyear_ = lossyear[i*ave_res*n:(i+1)*ave_res*n,j*ave_res*n:(j+1)*ave_res*n]\n",
    "\n",
    "                forest_all=binarize_annual_forest(treecover_,lossyear_,forest_thresh)\n",
    "                forest_coarse = coarsen_forest(forest_all,ave_res)\n",
    "\n",
    "                forest_rows.append(forest_coarse)\n",
    "\n",
    "            forest.append(np.concatenate(forest_rows,axis=1))\n",
    "        print('saving')\n",
    "        forest = np.concatenate(forest,axis=0)\n",
    "        np.save(f\"{anaPath}forestcover5km_{str(lat).zfill(2)}N_{str(lon).zfill(3)}E.pkl\", forest)\n",
    "\n",
    "        loss = -np.diff(forest,axis=-1)\n",
    "        np.save(f\"{anaPath}forestloss5km_{str(lat).zfill(2)}N_{str(lon).zfill(3)}E.pkl\", loss)\n",
    "        \n",
    "        print(time.time()-starttime)"
   ]
  },
  {
   "cell_type": "code",
   "execution_count": null,
   "id": "d0ca0ba5-1272-4a82-becc-1f00ebfed624",
   "metadata": {},
   "outputs": [],
   "source": [
    "lats = np.linspace(lat-10, lat, forest.shape[0]+1)[1:]\n",
    "lons = np.linspace(lon, lon+10, forest.shape[1]+1)[:-1]\n",
    "\n",
    "fig, axes = plt.subplots(1,5,sharex=True,sharey=True,figsize=(15,5),\n",
    "                        subplot_kw={'projection':ccrs.PlateCarree()})\n",
    "axes = axes.flatten()\n",
    "\n",
    "for ax,yr in zip(axes,[0,5,10,15,20]):\n",
    "    c = ax.contourf(lons, lats,\n",
    "                  forest[:,:,yr],\n",
    "                    levels = np.linspace(0,1,11),\n",
    "                    cmap='Greens')\n",
    "    \n",
    "    ax.coastlines()\n",
    "    add_latlon(ax)\n",
    "    \n",
    "    ax.set_title(f\"20{str(yr).zfill(2)}\",loc='center')\n",
    "    \n",
    "ax.set_xlim(110,120)\n",
    "ax.set_ylim(0,10)\n",
    "\n",
    "cax = fig.add_axes([axes[0].get_position().x0,\n",
    "                    axes[1].get_position().y0-0.1125, \n",
    "                    axes[-1].get_position().x1 - axes[0].get_position().x0,\n",
    "                    0.035])\n",
    "cbar = plt.colorbar(c,cax=cax, orientation='horizontal', \n",
    "                    label = 'Forest Cover Fraction'\n",
    "                   ) \n",
    "\n",
    "plt.savefig(f\"{figPath}sample_forestcover5km_tile.png\",dpi=300,bbox_inches='tight')\n",
    "plt.show()"
   ]
  },
  {
   "cell_type": "code",
   "execution_count": null,
   "id": "814cbd0b-b085-4fae-9594-50a3956a19bc",
   "metadata": {},
   "outputs": [],
   "source": [
    "lats = np.linspace(lat-10, lat, forest.shape[0]+1)[1:]\n",
    "lons = np.linspace(lon, lon+10, forest.shape[1]+1)[:-1]\n",
    "\n",
    "fig, axes = plt.subplots(1,4,sharex=True,sharey=True,figsize=(13,5),\n",
    "                        subplot_kw={'projection':ccrs.PlateCarree()})\n",
    "axes = axes.flatten()\n",
    "\n",
    "for ax,yr in zip(axes,[4,9,14,19]):\n",
    "    c = ax.contourf(lons, lats,\n",
    "                  loss[:,:,yr],\n",
    "                    levels = np.linspace(0,0.5,11),\n",
    "                    extend='max',\n",
    "                    cmap='Reds')\n",
    "    \n",
    "    ax.coastlines()\n",
    "    add_latlon(ax)\n",
    "    \n",
    "    ax.set_title(f\"20{str(yr+1).zfill(2)}\",loc='center')\n",
    "    \n",
    "ax.set_xlim(110,120)\n",
    "ax.set_ylim(0,10)\n",
    "\n",
    "cax = fig.add_axes([axes[0].get_position().x0,\n",
    "                    axes[1].get_position().y0-0.1125, \n",
    "                    axes[-1].get_position().x1-axes[0].get_position().x0,\n",
    "                    0.035])\n",
    "cbar = plt.colorbar(c,cax=cax, orientation='horizontal', \n",
    "                    label = 'Forest Loss Fraction'\n",
    "                   ) \n",
    "\n",
    "plt.savefig(f\"{figPath}sample_forestloss5km_tile.png\",dpi=300,bbox_inches='tight')\n",
    "plt.show()"
   ]
  },
  {
   "cell_type": "markdown",
   "id": "83834260-7921-43fc-8848-573e71af67b8",
   "metadata": {},
   "source": [
    "forest = np.load(f\"{anaPath}forestcover1km_{str(lat).zfill(2)}N_{str(lon).zfill(3)}E.pkl.npy\")\n",
    "# Full Map"
   ]
  },
  {
   "cell_type": "code",
   "execution_count": null,
   "id": "e9532465-d685-4b0e-8c42-8c7bd26f46ad",
   "metadata": {},
   "outputs": [],
   "source": [
    "forest = np.load(f\"{anaPath}forestcover1km_{str(lat).zfill(2)}N_{str(lon).zfill(3)}E.pkl.npy\")"
   ]
  },
  {
   "cell_type": "code",
   "execution_count": null,
   "id": "55fa6819-5f9a-4673-a666-2cab501286b0",
   "metadata": {},
   "outputs": [],
   "source": [
    "fig, axes = plt.subplots(1,5,sharex=True,sharey=True,figsize=(18,8),\n",
    "                        subplot_kw={'projection':ccrs.PlateCarree()})\n",
    "axes = axes.flatten()\n",
    "\n",
    "for lat in [0,10,20,30]:\n",
    "    for lon in [90,100,110,120,130]:\n",
    "        print(lat,lon)\n",
    "        lats = np.linspace(lat-10, lat, forest.shape[0]+1)[1:]\n",
    "        lons = np.linspace(lon, lon+10, forest.shape[1]+1)[:-1]\n",
    "        \n",
    "        forest = np.load(f\"{anaPath}forestcover1km_{str(lat).zfill(2)}N_{str(lon).zfill(3)}E.pkl.npy\")\n",
    "\n",
    "        for ax,yr in zip(axes,[0,5,10,15,20]):\n",
    "            c = ax.contourf(lons, lats,\n",
    "                          forest[:,:,yr],\n",
    "                            levels = np.linspace(0,1,11),\n",
    "                            cmap='Greens')\n",
    "\n",
    "for ax,yr in zip(axes,[0,5,10,15,20]):\n",
    "    ax.coastlines()\n",
    "    add_latlon(ax)\n",
    "\n",
    "    ax.set_title(f\"20{str(yr).zfill(2)}\",loc='center')\n",
    "\n",
    "cax = fig.add_axes([axes[0].get_position().x0,\n",
    "                    axes[1].get_position().y0-0.1125, \n",
    "                    axes[-1].get_position().x1 - axes[0].get_position().x0,\n",
    "                    0.035])\n",
    "cbar = plt.colorbar(c,cax=cax, orientation='horizontal', \n",
    "                    label = 'Forest Cover Fraction'\n",
    "                   ) \n",
    "\n",
    "plt.savefig(f\"{figPath}full_forestcover1km_tile.png\",dpi=300,bbox_inches='tight')\n",
    "plt.show()"
   ]
  },
  {
   "cell_type": "code",
   "execution_count": null,
   "id": "53dc4ae6-3627-4a01-b267-9db938503cb7",
   "metadata": {},
   "outputs": [],
   "source": [
    "fig, axes = plt.subplots(1,2,sharex=True,sharey=True,figsize=(8,4.5),\n",
    "                        subplot_kw={'projection':ccrs.PlateCarree()})\n",
    "axes = axes.flatten()\n",
    "\n",
    "for lat in [0,10,20,30]:\n",
    "    for lon in [90,100,110,120,130]:\n",
    "        print(lat,lon)\n",
    "        lats = np.linspace(lat-10, lat, forest.shape[0]+1)[1:]\n",
    "        lons = np.linspace(lon, lon+10, forest.shape[1]+1)[:-1]\n",
    "        \n",
    "        forest = np.load(f\"{anaPath}forestcover1km_{str(lat).zfill(2)}N_{str(lon).zfill(3)}E.pkl.npy\")\n",
    "\n",
    "        for ax,yr in zip(axes,[0,20]):\n",
    "            c = ax.contourf(lons, lats,\n",
    "                          forest[:,:,yr],\n",
    "                            levels = np.linspace(0,1,11),\n",
    "                            cmap='Greens')\n",
    "\n",
    "for ax,yr in zip(axes,[0,20]):\n",
    "    ax.coastlines()\n",
    "    add_latlon(ax)\n",
    "    ax.add_feature(cfeature.NaturalEarthFeature('physical',\n",
    "                                                'ocean', \n",
    "                                                '50m', \n",
    "                                                edgecolor='black', \n",
    "                                                facecolor='white'))\n",
    "\n",
    "    ax.set_title(f\"20{str(yr).zfill(2)}\",loc='center')\n",
    "\n",
    "cax = fig.add_axes([axes[0].get_position().x0,\n",
    "                    axes[1].get_position().y0-0.1225, \n",
    "                    axes[-1].get_position().x1 - axes[0].get_position().x0,\n",
    "                    0.035])\n",
    "cbar = plt.colorbar(c,cax=cax, orientation='horizontal', \n",
    "                    label = 'Forest Cover Fraction'\n",
    "                   ) \n",
    "\n",
    "plt.savefig(f\"{figPath}full_forestcover1km_tile-present.png\",dpi=300,bbox_inches='tight')\n",
    "plt.show()"
   ]
  },
  {
   "cell_type": "code",
   "execution_count": null,
   "id": "8ef3439b-491e-4243-a805-8b89f5695709",
   "metadata": {},
   "outputs": [],
   "source": [
    "print(figPath)"
   ]
  },
  {
   "cell_type": "code",
   "execution_count": null,
   "id": "f337a6e8-5443-48e8-b03c-a530ff864a23",
   "metadata": {},
   "outputs": [],
   "source": [
    "import cartopy.feature as cfeature"
   ]
  },
  {
   "cell_type": "code",
   "execution_count": null,
   "id": "b9e393dd-4a63-49e2-a096-07fe3ca0bcb9",
   "metadata": {},
   "outputs": [],
   "source": [
    "fig, axes = plt.subplots(1,4,sharex=True,sharey=True,figsize=(15,8),\n",
    "                        subplot_kw={'projection':ccrs.PlateCarree()})\n",
    "axes = axes.flatten()\n",
    "\n",
    "for lat in [0,10,20,30]:\n",
    "    for lon in [90,100,110,120,130]:\n",
    "        print(lat,lon)\n",
    "        lats = np.linspace(lat-10, lat, forest.shape[0]+1)[1:]\n",
    "        lons = np.linspace(lon, lon+10, forest.shape[1]+1)[:-1]\n",
    "        \n",
    "        loss = np.load(f\"{anaPath}forestloss1km_{str(lat).zfill(2)}N_{str(lon).zfill(3)}E.pkl.npy\")\n",
    "\n",
    "        for ax,yr in zip(axes,[4,9,14,19]):\n",
    "            c = ax.contourf(lons, lats,\n",
    "                          loss[:,:,yr],\n",
    "                            levels = np.linspace(0,0.5,11),\n",
    "                            extend='max',\n",
    "                            cmap='Reds')\n",
    "\n",
    "for ax,yr in zip(axes,[4,9,14,19]):\n",
    "    ax.coastlines()\n",
    "    add_latlon(ax)\n",
    "\n",
    "    ax.set_title(f\"20{str(yr+1).zfill(2)}\",loc='center')\n",
    "\n",
    "cax = fig.add_axes([axes[0].get_position().x0,\n",
    "                    axes[1].get_position().y0-0.1125, \n",
    "                    axes[-1].get_position().x1 - axes[0].get_position().x0,\n",
    "                    0.035])\n",
    "cbar = plt.colorbar(c,cax=cax, orientation='horizontal', \n",
    "                    label = 'Forest Loss Fraction'\n",
    "                   ) \n",
    "\n",
    "plt.savefig(f\"{figPath}full_forestloss1km_tile.png\",dpi=300,bbox_inches='tight')\n",
    "plt.show()"
   ]
  },
  {
   "cell_type": "code",
   "execution_count": null,
   "id": "1a5615ca-8f64-4d8f-9ee6-324112c8e2f0",
   "metadata": {},
   "outputs": [],
   "source": [
    "print(sorted(os.listdir(f\"{anaPath}\")))"
   ]
  },
  {
   "cell_type": "code",
   "execution_count": null,
   "id": "214b4cab-5907-41f3-8d49-02f8103b0bff",
   "metadata": {},
   "outputs": [],
   "source": [
    "print(anaPath)"
   ]
  },
  {
   "cell_type": "code",
   "execution_count": null,
   "id": "18de4db4-b56f-4ff1-9d3d-92271d2be6f3",
   "metadata": {},
   "outputs": [],
   "source": [
    "for lat in [0,10,20,30]:\n",
    "    #for lon in [90,100,110,120,130]:\n",
    "    print(lat,lon)\n",
    "    \n",
    "    lats = np.linspace(lat-10, lat, forest.shape[0]+1)[1:]\n",
    "    lons = np.linspace(lon, lon+10, forest.shape[1]+1)[:-1]\n",
    "\n",
    "    print(lats)\n",
    "    print(np.diff(lats))"
   ]
  },
  {
   "cell_type": "code",
   "execution_count": null,
   "id": "33dc031e-b5b1-4886-be76-f2d91e5bf816",
   "metadata": {},
   "outputs": [],
   "source": [
    "lats = np.linspace(-10, 30, forest.shape[0]*4+1)[1:]\n",
    "lons = np.linspace(90, 140, forest.shape[1]*5+1)[:-1]\n",
    "\n",
    "print(lats)\n",
    "print(lons)"
   ]
  },
  {
   "cell_type": "code",
   "execution_count": null,
   "id": "9ad5e7e5-2cc5-4be0-8984-2774ed670b81",
   "metadata": {},
   "outputs": [],
   "source": [
    "print(forest.shape)"
   ]
  },
  {
   "cell_type": "code",
   "execution_count": null,
   "id": "8c270f49-e97e-46f5-aaad-690ae6bdf5ef",
   "metadata": {},
   "outputs": [],
   "source": []
  }
 ],
 "metadata": {
  "kernelspec": {
   "display_name": "satlcc",
   "language": "python",
   "name": "satlcc"
  },
  "language_info": {
   "codemirror_mode": {
    "name": "ipython",
    "version": 3
   },
   "file_extension": ".py",
   "mimetype": "text/x-python",
   "name": "python",
   "nbconvert_exporter": "python",
   "pygments_lexer": "ipython3",
   "version": "3.10.5"
  },
  "toc-autonumbering": true
 },
 "nbformat": 4,
 "nbformat_minor": 5
}
